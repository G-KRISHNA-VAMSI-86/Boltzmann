{
  "nbformat": 4,
  "nbformat_minor": 0,
  "metadata": {
    "colab": {
      "provenance": [],
      "authorship_tag": "ABX9TyMe3yp6KUQG6nY8Jfu1H8Vy",
      "include_colab_link": true
    },
    "kernelspec": {
      "name": "python3",
      "display_name": "Python 3"
    },
    "language_info": {
      "name": "python"
    }
  },
  "cells": [
    {
      "cell_type": "markdown",
      "metadata": {
        "id": "view-in-github",
        "colab_type": "text"
      },
      "source": [
        "<a href=\"https://colab.research.google.com/github/G-KRISHNA-VAMSI-86/Boltzmann/blob/main/GenAIcohort_May2025_PromptEng_Krishna_vamsi.ipynb\" target=\"_parent\"><img src=\"https://colab.research.google.com/assets/colab-badge.svg\" alt=\"Open In Colab\"/></a>"
      ]
    },
    {
      "cell_type": "code",
      "execution_count": null,
      "metadata": {
        "colab": {
          "base_uri": "https://localhost:8080/"
        },
        "id": "dC2o_s1rK6G2",
        "outputId": "a39d4aaa-d49c-40b0-e3e5-518fbac81add"
      },
      "outputs": [
        {
          "output_type": "stream",
          "name": "stdout",
          "text": [
            "\u001b[?25l   \u001b[90m━━━━━━━━━━━━━━━━━━━━━━━━━━━━━━━━━━━━━━━━\u001b[0m \u001b[32m0.0/129.6 kB\u001b[0m \u001b[31m?\u001b[0m eta \u001b[36m-:--:--\u001b[0m\r\u001b[2K   \u001b[91m━━━━━━━━━━━━━━━━━━━━━━━━━━━━━━━━━━━━━\u001b[0m\u001b[91m╸\u001b[0m\u001b[90m━━\u001b[0m \u001b[32m122.9/129.6 kB\u001b[0m \u001b[31m6.4 MB/s\u001b[0m eta \u001b[36m0:00:01\u001b[0m\r\u001b[2K   \u001b[90m━━━━━━━━━━━━━━━━━━━━━━━━━━━━━━━━━━━━━━━━\u001b[0m \u001b[32m129.6/129.6 kB\u001b[0m \u001b[31m2.8 MB/s\u001b[0m eta \u001b[36m0:00:00\u001b[0m\n",
            "\u001b[?25h"
          ]
        }
      ],
      "source": [
        "# Step 1: Install Groq Python SDK\n",
        "!pip install -q groq\n"
      ]
    },
    {
      "cell_type": "code",
      "source": [
        "# Step 2: Set your Groq API key\n",
        "import os\n",
        "os.environ[\"GROQ_API_KEY\"] = \"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\"\n"
      ],
      "metadata": {
        "id": "7Mk6f1S-LA06"
      },
      "execution_count": null,
      "outputs": []
    },
    {
      "cell_type": "code",
      "source": [
        "# Step 3: Import and initialize Groq client\n",
        "from groq import Groq\n",
        "client = Groq(api_key=os.environ[\"GROQ_API_KEY\"])\n"
      ],
      "metadata": {
        "id": "cqXxv8LnLEP1"
      },
      "execution_count": null,
      "outputs": []
    },
    {
      "cell_type": "code",
      "source": [
        "# Prompt Engineering Example\n",
        "chat_completion = client.chat.completions.create(\n",
        "    messages=[{\"role\": \"user\", \"content\": \"What is prompt engineering in simple words?\"}],\n",
        "    model=\"llama3-8b-8192\",\n",
        ")\n",
        "print(\"Response:\")\n",
        "print(chat_completion.choices[0].message.content)\n"
      ],
      "metadata": {
        "colab": {
          "base_uri": "https://localhost:8080/"
        },
        "id": "HIvjXq7ALG7T",
        "outputId": "c51d3fae-228d-4258-ec8a-b2e102c093cc"
      },
      "execution_count": null,
      "outputs": [
        {
          "output_type": "stream",
          "name": "stdout",
          "text": [
            "Response:\n",
            "Prompt engineering is the process of designing and crafting the input text that a language model or AI system uses to generate a response. The prompt is like a question or instruction that sets the context for the model to provide an answer or respond in a certain way.\n",
            "\n",
            "Think of it like ordering food at a restaurant. You can't just give the chef a blank piece of paper and expect them to magically create a delicious meal. Instead, you need to give them specific instructions, like \"I want a vegan burger with avocado and crispy bacon.\" That's like a prompt!\n",
            "\n",
            "Similarly, when working with language models, you need to provide them with a clear and specific prompt to get the desired output. This can involve crafting the right keywords, phrases, or context to elicit a particular response.\n",
            "\n",
            "The goal of prompt engineering is to create high-quality prompts that:\n",
            "\n",
            "1. Are clear and concise\n",
            "2. Provide the right context\n",
            "3. Encourage the model to generate relevant and accurate responses\n",
            "4. Avoid bias or misleading information\n",
            "\n",
            "By optimizing prompts, you can improve the overall performance and reliability of language models, making them more useful and effective in a wide range of applications!\n"
          ]
        }
      ]
    },
    {
      "cell_type": "code",
      "source": [
        "# Text Summarization\n",
        "text = \"Artificial Intelligence is transforming industries by automating processes and enabling new ways of interacting with customers. This revolution is being powered by advancements in machine learning and data analytics.\"\n",
        "prompt = f\"Summarize the following text:\\n{text}\"\n",
        "chat_completion = client.chat.completions.create(\n",
        "    messages=[{\"role\": \"user\", \"content\": prompt}],\n",
        "    model=\"llama3-8b-8192\",\n",
        ")\n",
        "print(\"\\nSummary:\")\n",
        "print(chat_completion.choices[0].message.content)\n"
      ],
      "metadata": {
        "colab": {
          "base_uri": "https://localhost:8080/"
        },
        "id": "rRvGBEg4LJiY",
        "outputId": "12216a41-521b-4b54-8248-9a3e4fd8ec04"
      },
      "execution_count": null,
      "outputs": [
        {
          "output_type": "stream",
          "name": "stdout",
          "text": [
            "\n",
            "Summary:\n",
            "Artificial Intelligence (AI) is transforming industries by automating processes and improving customer interactions, driven by advancements in machine learning and data analytics.\n"
          ]
        }
      ]
    },
    {
      "cell_type": "code",
      "source": [
        "# Creative Story Generation\n",
        "story_prompt = \"Write a short story about a cat that becomes an astronaut.\"\n",
        "chat_completion = client.chat.completions.create(\n",
        "    messages=[{\"role\": \"user\", \"content\": story_prompt}],\n",
        "    model=\"llama3-8b-8192\",\n",
        ")\n",
        "print(\"\\nStory:\")\n",
        "print(chat_completion.choices[0].message.content)\n"
      ],
      "metadata": {
        "colab": {
          "base_uri": "https://localhost:8080/"
        },
        "id": "FOq1QT39LM9M",
        "outputId": "2d2a8b39-2107-4f14-a88b-556eccd18579"
      },
      "execution_count": null,
      "outputs": [
        {
          "output_type": "stream",
          "name": "stdout",
          "text": [
            "\n",
            "Story:\n",
            "Whiskers, a sleek and agile cat, had always been fascinated by the stars. She would spend hours gazing up at the night sky, watching the planets move in their orbits and dreaming of the day she could explore the cosmos herself. As she grew older, her fascination only deepened, and she began to read everything she could find on space travel and astronomy.\n",
            "\n",
            "One day, a team of scientists at the local space agency, Galactic Exploration Inc., was preparing for their next mission to Mars. They were in need of a feline companion to accompany their human crew member, Dr. Emily Wong, on the long journey. Whiskers, who had been secretly sneaking into the agency's library to study astronaut candidate charts, saw her chance and decided to apply.\n",
            "\n",
            "To everyone's surprise, Whiskers' agility, keen senses, and ability to adapt quickly to new situations made her an ideal candidate. After a series of rigorous tests and training sessions, she was selected to join the Martian mission alongside Dr. Wong.\n",
            "\n",
            "Launch day arrived, and Whiskers found herself strapped into her miniature space suit, ready to blast off into the unknown. As the rocket soared into the sky, she felt a rush of excitement mixed with a hint of nervousness. But when the capsule reached orbit, she peered out the window at the curved Earth, her heart racing with wonder.\n",
            "\n",
            "The journey to Mars took several months, during which Whiskers kept herself occupied by practicing her spacewalk skills, studying for her certification exams, and even helping Dr. Wong with her research. When they finally arrived at the Red Planet, Whiskers was awestruck by the rust-red landscape and towering mountains.\n",
            "\n",
            "During their two-week stay, Whiskers and Dr. Wong conducted scientific experiments, collected samples, and even took a thrilling rover ride across the Martian terrain. The cat's agility came in handy when she helped navigate through narrow crevices and tight spaces, collecting data that proved invaluable to the mission.\n",
            "\n",
            "Upon their return to Earth, Whiskers was hailed as a hero and the first feline astronaut in history. She was showered with accolades, parades, and even a special commendation from the United Nations. Her legendary status sparked a new wave of interest in space exploration among the younger generation, inspiring a new breed of would-be space-faring felines.\n",
            "\n",
            "Whiskers continued to work with Galactic Exploration Inc., participating in further missions to the Moon, asteroids, and even distant exoplanets. Her pioneering spirit and adaptability made her an invaluable asset to the team, and she remained the most celebrated cat in the world of space exploration.\n",
            "\n",
            "As she looked up at the stars from her cozy spaceship, Whiskers knew that she had achieved the impossible – and that anything was paws-ible when you dared to dream big.\n"
          ]
        }
      ]
    },
    {
      "cell_type": "code",
      "source": [
        "# Question Generation from Context\n",
        "context = \"The Earth revolves around the Sun once every 365.25 days. This motion causes the seasons to change throughout the year.\"\n",
        "qg_prompt = f\"Generate 3 quiz questions from the following content:\\n\\n{context}\"\n",
        "chat_completion = client.chat.completions.create(\n",
        "    messages=[{\"role\": \"user\", \"content\": qg_prompt}],\n",
        "    model=\"llama3-8b-8192\",\n",
        ")\n",
        "print(\"\\nGenerated Questions:\")\n",
        "print(chat_completion.choices[0].message.content)\n"
      ],
      "metadata": {
        "colab": {
          "base_uri": "https://localhost:8080/"
        },
        "id": "Ur1tUBsXLRBl",
        "outputId": "5757d1bc-3f8c-4ec6-f222-29db6d9232ed"
      },
      "execution_count": null,
      "outputs": [
        {
          "output_type": "stream",
          "name": "stdout",
          "text": [
            "\n",
            "Generated Questions:\n",
            "Here are three quiz questions based on the content:\n",
            "\n",
            "1. How often does the Earth revolve around the Sun?\n",
            "a) Once every 360 days\n",
            "b) Once every 365.25 days\n",
            "c) Once every 380 days\n",
            "\n",
            "Answer: b) Once every 365.25 days\n",
            "\n",
            "2. What is the main reason for the change in seasons throughout the year?\n",
            "a) The movement of the Moon\n",
            "b) The motion of the Earth's axis\n",
            "c) The Earth's revolution around the Sun\n",
            "\n",
            "Answer: c) The Earth's revolution around the Sun\n",
            "\n",
            "3. Approximately how many days does it take the Earth to complete one revolution around the Sun?\n",
            "a) 360 days\n",
            "b) 365 days\n",
            "c) 365.25 days\n",
            "\n",
            "Answer: c) 365.25 days\n"
          ]
        }
      ]
    },
    {
      "cell_type": "code",
      "source": [
        "# Chain-of-Thought Reasoning\n",
        "cot_prompt = \"If a train travels 60 km in 1 hour and then another 90 km in 1.5 hours, what is the average speed of the train? Think step by step.\"\n",
        "chat_completion = client.chat.completions.create(\n",
        "    messages=[{\"role\": \"user\", \"content\": cot_prompt}],\n",
        "    model=\"llama3-8b-8192\",\n",
        ")\n",
        "print(\"\\nStep-by-step Answer:\")\n",
        "print(chat_completion.choices[0].message.content)\n"
      ],
      "metadata": {
        "colab": {
          "base_uri": "https://localhost:8080/"
        },
        "id": "mfWbyUPNLTkc",
        "outputId": "be77c0bf-5f5e-43a4-d59a-2ab24ad44652"
      },
      "execution_count": null,
      "outputs": [
        {
          "output_type": "stream",
          "name": "stdout",
          "text": [
            "\n",
            "Step-by-step Answer:\n",
            "Let's break it down step by step!\n",
            "\n",
            "1. First, find the total distance traveled by the train:\n",
            "\n",
            "60 km (in 1 hour) + 90 km (in 1.5 hours) = 150 km\n",
            "\n",
            "2. Next, find the total time taken to travel this distance:\n",
            "\n",
            "1 hour + 1.5 hours = 2.5 hours\n",
            "\n",
            "3. Now, calculate the average speed of the train:\n",
            "\n",
            "Average speed = Total distance / Total time\n",
            "= 150 km / 2.5 hours\n",
            "= 60 km/h\n",
            "\n",
            "So, the average speed of the train is 60 km/h.\n"
          ]
        }
      ]
    },
    {
      "cell_type": "code",
      "source": [
        "# Tone Conversion\n",
        "text = \"Hey dude, can u pls help me with this project thingy?\"\n",
        "tone_prompt = f\"Convert this to a formal tone: {text}\"\n",
        "chat_completion = client.chat.completions.create(\n",
        "    messages=[{\"role\": \"user\", \"content\": tone_prompt}],\n",
        "    model=\"llama3-8b-8192\",\n",
        ")\n",
        "print(\"\\nFormal Version:\")\n",
        "print(chat_completion.choices[0].message.content)\n"
      ],
      "metadata": {
        "colab": {
          "base_uri": "https://localhost:8080/"
        },
        "id": "qGMvuzeaLWai",
        "outputId": "e7f4b0d7-364f-4abc-b2e1-cba032dabbd1"
      },
      "execution_count": null,
      "outputs": [
        {
          "output_type": "stream",
          "name": "stdout",
          "text": [
            "\n",
            "Formal Version:\n",
            "Here is the rewritten text in a formal tone:\n",
            "\n",
            "Dear [Recipient],\n",
            "\n",
            "I would greatly appreciate it if you could assist me with this project. Could you please provide your guidance and support as I work to complete it?\n",
            "\n",
            "Thank you in advance for your help.\n",
            "\n",
            "Sincerely,\n",
            "[Your Name]\n"
          ]
        }
      ]
    },
    {
      "cell_type": "code",
      "source": [
        "# Dialogue Simulation\n",
        "dialogue_prompt = \"You are an AI teacher. A student asks: 'Why is the sky blue?'. Respond to the student and ask a follow-up question to keep the conversation going.\"\n",
        "chat_completion = client.chat.completions.create(\n",
        "    messages=[{\"role\": \"user\", \"content\": dialogue_prompt}],\n",
        "    model=\"llama3-8b-8192\",\n",
        ")\n",
        "print(\"\\nDialogue Response:\")\n",
        "print(chat_completion.choices[0].message.content)\n"
      ],
      "metadata": {
        "colab": {
          "base_uri": "https://localhost:8080/"
        },
        "id": "ooyyBuOaLYnR",
        "outputId": "f78356dc-ce04-40e8-d24b-924cf4c4dd1f"
      },
      "execution_count": null,
      "outputs": [
        {
          "output_type": "stream",
          "name": "stdout",
          "text": [
            "\n",
            "Dialogue Response:\n",
            "The sky appears blue because of a phenomenon called Rayleigh scattering, where shorter wavelengths of light (like blue and violet) are scattered more than longer wavelengths (like red and orange) by the tiny molecules of gases in the atmosphere, such as nitrogen and oxygen.\n",
            "\n",
            "This scattering effect is more pronounced in the sky because the light from the sun has to travel longer distances through the atmosphere to reach our eyes, giving more opportunities for the shorter wavelengths to be scattered.\n",
            "\n",
            "That's a great question! Now, have you ever noticed that the sky can appear different colors during sunrise and sunset? What do you think might be causing these changes in color, and how does it relate to the concept of Rayleigh scattering?\n"
          ]
        }
      ]
    }
  ]
}